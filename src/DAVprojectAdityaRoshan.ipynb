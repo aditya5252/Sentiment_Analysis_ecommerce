{
 "cells": [
  {
   "cell_type": "code",
   "execution_count": 23,
   "id": "daf615b2",
   "metadata": {},
   "outputs": [
    {
     "data": {
      "text/html": [
       "        <script type=\"text/javascript\">\n",
       "        window.PlotlyConfig = {MathJaxConfig: 'local'};\n",
       "        if (window.MathJax) {MathJax.Hub.Config({SVG: {font: \"STIX-Web\"}});}\n",
       "        if (typeof require !== 'undefined') {\n",
       "        require.undef(\"plotly\");\n",
       "        requirejs.config({\n",
       "            paths: {\n",
       "                'plotly': ['https://cdn.plot.ly/plotly-latest.min']\n",
       "            }\n",
       "        });\n",
       "        require(['plotly'], function(Plotly) {\n",
       "            window._Plotly = Plotly;\n",
       "        });\n",
       "        }\n",
       "        </script>\n",
       "        "
      ]
     },
     "metadata": {},
     "output_type": "display_data"
    }
   ],
   "source": [
    "import pandas as pd\n",
    "import numpy as np\n",
    "import datetime as dt\n",
    "import matplotlib.pyplot as plt\n",
    "# from wordcloud import WordCloud\n",
    "import seaborn as sns\n",
    "from sklearn.feature_extraction.text import CountVectorizer\n",
    "from sklearn.model_selection import train_test_split\n",
    "from sklearn.linear_model import LogisticRegression\n",
    "from sklearn.naive_bayes import MultinomialNB\n",
    "from sklearn.metrics import roc_curve, auc\n",
    "from sklearn.neural_network import MLPClassifier\n",
    "from sklearn.svm import SVC\n",
    "from sklearn.metrics import confusion_matrix\n",
    "import sklearn.metrics as mt\n",
    "from plotly import tools\n",
    "import plotly.offline as py\n",
    "py.init_notebook_mode(connected=True)\n",
    "import plotly.graph_objs as go\n",
    "%matplotlib inline\n",
    "import warnings\n",
    "warnings.filterwarnings('ignore')\n",
    "import tensorflow as tf\n",
    "from tensorflow import keras\n",
    "from tensorflow.keras.models import Sequential\n",
    "from tensorflow.keras.layers import Activation,Dense,Dropout\n",
    "from tensorflow.keras.optimizers import Adam\n",
    "from tensorflow.keras.metrics import categorical_crossentropy\n",
    "\n",
    "df = pd.read_csv('Womens Clothing E-Commerce Reviews.csv')\n"
   ]
  },
  {
   "cell_type": "code",
   "execution_count": 24,
   "id": "d590c03a",
   "metadata": {},
   "outputs": [],
   "source": [
    "df1=pd.read_csv('mydf.csv')"
   ]
  },
  {
   "cell_type": "code",
   "execution_count": 25,
   "id": "3a5e0881",
   "metadata": {},
   "outputs": [
    {
     "data": {
      "text/plain": [
       "(4694, 17210)"
      ]
     },
     "execution_count": 25,
     "metadata": {},
     "output_type": "execute_result"
    }
   ],
   "source": [
    "df1.shape"
   ]
  },
  {
   "cell_type": "code",
   "execution_count": 26,
   "id": "39ca5177",
   "metadata": {},
   "outputs": [],
   "source": [
    "y_train=np.loadtxt('y_train.txt')\n",
    "y_test=np.loadtxt('y_test.txt')"
   ]
  },
  {
   "cell_type": "code",
   "execution_count": 27,
   "id": "24faac5d",
   "metadata": {},
   "outputs": [],
   "source": [
    "Ntot=df1.shape[0]"
   ]
  },
  {
   "cell_type": "code",
   "execution_count": 28,
   "id": "069704cc",
   "metadata": {},
   "outputs": [],
   "source": [
    "xtrain=df1.iloc[:int(0.8*Ntot)].to_numpy()\n",
    "xtest=df1.iloc[int(0.8*Ntot):].to_numpy()\n",
    "\n",
    "from sklearn.preprocessing import StandardScaler\n",
    "from sklearn.decomposition import PCA\n",
    "# Scaling using StanScaler\n",
    "scaler= StandardScaler()\n",
    "scaler.fit(xtrain)\n",
    "xtrain=scaler.transform(xtrain)\n",
    "xtest=scaler.transform(xtest)\n",
    "#12 comp PCA\n",
    "K=3500\n",
    "pca = PCA(n_components=K)\n",
    "pca.fit(xtrain)\n",
    "xtrain=pca.transform(xtrain)\n",
    "xtest=pca.transform(xtest)\n"
   ]
  },
  {
   "cell_type": "code",
   "execution_count": 29,
   "id": "6b570136",
   "metadata": {},
   "outputs": [
    {
     "name": "stdout",
     "output_type": "stream",
     "text": [
      "Elapsed time:  0:00:01.174718\n"
     ]
    },
    {
     "data": {
      "text/plain": [
       "0.7188498402555911"
      ]
     },
     "execution_count": 29,
     "metadata": {},
     "output_type": "execute_result"
    }
   ],
   "source": [
    "\n",
    "start=dt.datetime.now()\n",
    "lr = LogisticRegression()\n",
    "lr.fit(xtrain,y_train)\n",
    "print('Elapsed time: ',str(dt.datetime.now()-start))\n",
    "lr.score(xtest, y_test)\n"
   ]
  },
  {
   "cell_type": "code",
   "execution_count": 30,
   "id": "55b02442",
   "metadata": {},
   "outputs": [
    {
     "name": "stdout",
     "output_type": "stream",
     "text": [
      "Elapsed time:  0:00:42.115228\n"
     ]
    },
    {
     "data": {
      "text/plain": [
       "0.7454739084132055"
      ]
     },
     "execution_count": 30,
     "metadata": {},
     "output_type": "execute_result"
    }
   ],
   "source": [
    "\n",
    "start=dt.datetime.now()\n",
    "svm = SVC()\n",
    "svm.fit(xtrain,y_train)\n",
    "print('Elapsed time: ',str(dt.datetime.now()-start))\n",
    "svm.score(xtest, y_test)"
   ]
  },
  {
   "cell_type": "code",
   "execution_count": 31,
   "id": "e4bad158",
   "metadata": {},
   "outputs": [
    {
     "name": "stdout",
     "output_type": "stream",
     "text": [
      "Model: \"sequential_2\"\n",
      "_________________________________________________________________\n",
      "Layer (type)                 Output Shape              Param #   \n",
      "=================================================================\n",
      "dense_10 (Dense)             (None, 16)                56016     \n",
      "_________________________________________________________________\n",
      "dense_11 (Dense)             (None, 32)                544       \n",
      "_________________________________________________________________\n",
      "dropout_4 (Dropout)          (None, 32)                0         \n",
      "_________________________________________________________________\n",
      "dense_12 (Dense)             (None, 16)                528       \n",
      "_________________________________________________________________\n",
      "dense_13 (Dense)             (None, 32)                544       \n",
      "_________________________________________________________________\n",
      "dropout_5 (Dropout)          (None, 32)                0         \n",
      "_________________________________________________________________\n",
      "dense_14 (Dense)             (None, 2)                 66        \n",
      "=================================================================\n",
      "Total params: 57,698\n",
      "Trainable params: 57,698\n",
      "Non-trainable params: 0\n",
      "_________________________________________________________________\n",
      "Train on 3755 samples, validate on 939 samples\n",
      "Epoch 1/6\n",
      "3755/3755 - 1s - loss: 0.5798 - accuracy: 0.7648 - val_loss: 0.5151 - val_accuracy: 0.8296\n",
      "Epoch 2/6\n",
      "3755/3755 - 1s - loss: 0.5089 - accuracy: 0.8162 - val_loss: 0.4982 - val_accuracy: 0.8296\n",
      "Epoch 3/6\n",
      "3755/3755 - 1s - loss: 0.4661 - accuracy: 0.8186 - val_loss: 0.4952 - val_accuracy: 0.8296\n",
      "Epoch 4/6\n",
      "3755/3755 - 1s - loss: 0.4135 - accuracy: 0.8232 - val_loss: 0.5048 - val_accuracy: 0.8296\n",
      "Epoch 5/6\n",
      "3755/3755 - 1s - loss: 0.3599 - accuracy: 0.8250 - val_loss: 0.5330 - val_accuracy: 0.8296\n",
      "Epoch 6/6\n",
      "3755/3755 - 1s - loss: 0.3178 - accuracy: 0.8293 - val_loss: 0.5861 - val_accuracy: 0.8307\n"
     ]
    },
    {
     "data": {
      "text/plain": [
       "<tensorflow.python.keras.callbacks.History at 0x7f309dea0198>"
      ]
     },
     "execution_count": 31,
     "metadata": {},
     "output_type": "execute_result"
    }
   ],
   "source": [
    "model=Sequential([ Dense(units=16,input_shape=(K,),activation='relu'),\n",
    "                  Dense(units=32,activation='relu'),\n",
    "                  Dropout(0.3),\n",
    "                  Dense(units=16,activation='relu'),\n",
    "                  Dense(units=32,activation='relu'),\n",
    "                  Dropout(0.3),\n",
    "                  Dense(units=2,activation='softmax')])\n",
    "\n",
    "model.compile(optimizer=Adam(learning_rate=0.0001)\n",
    "              ,loss='sparse_categorical_crossentropy',metrics=['accuracy'])\n",
    "\n",
    "model.summary()\n",
    "\n",
    "model.fit(xtrain,y_train,batch_size=10,epochs=6,validation_data=(xtest, y_test)\n",
    "                    ,verbose=2)\n",
    "# model.fit(xtrain,y_train,batch_size=10,epochs=10,verbose=2)"
   ]
  },
  {
   "cell_type": "code",
   "execution_count": 10,
   "id": "88c2195e",
   "metadata": {},
   "outputs": [],
   "source": [
    "predictions=model.predict(x=xtest,batch_size=10,verbose=0)\n",
    "rounded_predictions=np.argmax(predictions,axis=-1)\n",
    "\n",
    "\n",
    "from sklearn.metrics import confusion_matrix\n",
    "import itertools\n",
    "\n",
    "\n",
    "cm=confusion_matrix(y_true=y_test,y_pred=rounded_predictions)\n",
    "def plot_confusion_matrix(cm,classes,normalize=False,title='Confusion Matrix',\n",
    "                         cmap=plt.cm.Blues):\n",
    "    plt.imshow(cm,interpolation='nearest',cmap=cmap)\n",
    "    plt.title(title)\n",
    "    plt.colorbar()\n",
    "    tick_marks=np.arange(len(classes))\n",
    "    plt.xticks(tick_marks,classes,rotation=45)\n",
    "    plt.yticks(tick_marks,classes)\n",
    "    if normalize:\n",
    "        cm=cm.astype('float')/cm.sum(axis=1)[:,np.newaxis]\n",
    "        print('Normalized Confusion Matrix')\n",
    "    else:\n",
    "        print('Confusion Matrix without normalization')\n",
    "    print(cm)\n",
    "    thresh=cm.max()/2\n",
    "    for i,j in itertools.product(range(cm.shape[0]),range(cm.shape[1])):\n",
    "        plt.text(j,i,cm[i,j],horizontalalignment='center',\n",
    "                color='white' if cm[i,j]>thresh else 'black')\n",
    "    plt.tight_layout()\n",
    "    plt.ylabel('True Label')\n",
    "    plt.xlabel('Predicted Label')"
   ]
  },
  {
   "cell_type": "code",
   "execution_count": 11,
   "id": "949cd028",
   "metadata": {},
   "outputs": [],
   "source": [
    "# cm_plot_labels=['Positive Review','Negative Review']\n",
    "# plt.figure(figsize=(8, 8))\n",
    "# plot_confusion_matrix(cm=cm,classes=cm_plot_labels,title='Confusion Matrix')"
   ]
  },
  {
   "cell_type": "code",
   "execution_count": 21,
   "id": "ea845462",
   "metadata": {},
   "outputs": [
    {
     "name": "stdout",
     "output_type": "stream",
     "text": [
      "Elapsed time:  0:00:13.578061\n"
     ]
    },
    {
     "data": {
      "text/plain": [
       "0.7188498402555911"
      ]
     },
     "execution_count": 21,
     "metadata": {},
     "output_type": "execute_result"
    }
   ],
   "source": [
    "start=dt.datetime.now()\n",
    "nn = MLPClassifier()\n",
    "nn.fit(xtrain,y_train)\n",
    "print('Elapsed time: ',str(dt.datetime.now()-start))\n",
    "nn.score(xtest, y_test)"
   ]
  },
  {
   "cell_type": "code",
   "execution_count": 22,
   "id": "af095a2f",
   "metadata": {},
   "outputs": [
    {
     "data": {
      "text/plain": [
       "0.7412140575079872"
      ]
     },
     "execution_count": 22,
     "metadata": {},
     "output_type": "execute_result"
    }
   ],
   "source": [
    "\n",
    "# importing random forest classifier from assemble module\n",
    "from sklearn.ensemble import RandomForestClassifier\n",
    "clf = RandomForestClassifier(n_estimators = 100)  \n",
    "clf.fit(xtrain, y_train)\n",
    "y_pred = clf.predict(xtest)\n",
    "from sklearn import metrics  \n",
    "clf.score(xtest, y_test)\n",
    "\n",
    "# using metrics module for accuracy calculation\n",
    "# print(\"ACCURACY OF THE MODEL: \", metrics.accuracy_score(y_test, y_pred))"
   ]
  },
  {
   "cell_type": "code",
   "execution_count": 14,
   "id": "d13a5aab",
   "metadata": {},
   "outputs": [],
   "source": [
    "# # ROC Curves and AUC\n",
    "\n",
    "# # Logistic Regression Plot\n",
    "# pred_lr = lr.predict_proba(xtest)[:,1]\n",
    "# fpr_lr,tpr_lr,_ = roc_curve(y_test,pred_lr)\n",
    "# roc_auc_lr = auc(fpr_lr,tpr_lr)\n",
    "\n",
    "# f, axes = plt.subplots(2, 2,figsize=(15,10))\n",
    "# axes[0,0].plot(fpr_lr, tpr_lr, color='darkred', lw=2, label='ROC curve (area = {:0.2f})'.format(roc_auc_lr))\n",
    "# axes[0,0].plot([0, 1], [0, 1], color='navy', lw=2, linestyle='--')\n",
    "# axes[0,0].set(xlim=[-0.01, 1.0], ylim=[-0.01, 1.05])\n",
    "# axes[0,0].set(xlabel ='False Positive Rate', ylabel = 'True Positive Rate', title = 'Logistic Regression')\n",
    "# axes[0,0].legend(loc='lower right', fontsize=13)\n",
    "\n",
    "# # # Multinominal Naive Bayes Plot\n",
    "# # pred_nb = nb.predict_proba(xtest)[:,1]\n",
    "# # fpr_nb,tpr_nb,_ = roc_curve(y_test.values,pred_nb)\n",
    "# # roc_auc_nb = auc(fpr_nb,tpr_nb)\n",
    "\n",
    "# # axes[0,1].plot(fpr_nb, tpr_nb, color='darkred', lw=2, label='ROC curve (area = {:0.2f})'.format(roc_auc_nb))\n",
    "# # axes[0,1].plot([0, 1], [0, 1], color='navy', lw=2, linestyle='--')\n",
    "# # axes[0,1].set(xlim=[-0.01, 1.0], ylim=[-0.01, 1.05])\n",
    "# # axes[0,1].set(xlabel ='False Positive Rate', ylabel = 'True Positive Rate', title = 'Naive Bayes')\n",
    "# # axes[0,1].legend(loc='lower right', fontsize=13)\n",
    "\n",
    "# # ROC Curve for Random Forest Classifier\n",
    "# pred_clf = clf.predict_proba(xtest)[:,1]\n",
    "# fpr_clf,tpr_clf,_ = roc_curve(y_test,pred_clf)\n",
    "# roc_auc_clf = auc(fpr_clf,tpr_clf)\n",
    "\n",
    "# axes[0,1].plot(fpr_clf, tpr_clf, color='darkred', lw=2, label='ROC curve (area = {:0.2f})'.format(roc_auc_clf))\n",
    "# axes[0,1].plot([0, 1], [0, 1], color='navy', lw=2, linestyle='--')\n",
    "# axes[0,1].set(xlim=[-0.01, 1.0], ylim=[-0.01, 1.05])\n",
    "# axes[0,1].set(xlabel ='False Positive Rate', ylabel = 'True Positive Rate', title = 'Random Forest Classifier')\n",
    "# axes[0,1].legend(loc='lower right', fontsize=13)\n",
    "\n",
    "\n",
    "\n",
    "# #SVM\n",
    "# pred_svm = svm.decision_function(xtest)\n",
    "# fpr_svm,tpr_svm,_ = roc_curve(y_test,pred_svm)\n",
    "# roc_auc_svm = auc(fpr_svm,tpr_svm)\n",
    "\n",
    "# axes[1,0].plot(fpr_svm, tpr_svm, color='darkred', lw=2, label='ROC curve (area = {:0.2f})'.format(roc_auc_svm))\n",
    "# axes[1,0].plot([0, 1], [0, 1], color='navy', lw=2, linestyle='--')\n",
    "# axes[1,0].set(xlim=[-0.01, 1.0], ylim=[-0.01, 1.05])\n",
    "# axes[1,0].set(xlabel ='False Positive Rate', ylabel = 'True Positive Rate', title = 'Support Vector Machine')\n",
    "# axes[1,0].legend(loc='lower right', fontsize=13)\n",
    "\n",
    "# # Neural Network\n",
    "# pred_nn = nn.predict_proba(xtest)[:,1]\n",
    "# fpr_nn,tpr_nn,_ = roc_curve(y_test,pred_nn)\n",
    "# roc_auc_nn = auc(fpr_nn,tpr_nn)\n",
    "\n",
    "# axes[1,1].plot(fpr_nn, tpr_nn, color='darkred', lw=2, label='ROC curve (area = {:0.2f})'.format(roc_auc_nn))\n",
    "# axes[1,1].plot([0, 1], [0, 1], color='navy', lw=2, linestyle='--')\n",
    "# axes[1,1].set(xlim=[-0.01, 1.0], ylim=[-0.01, 1.05])\n",
    "# axes[1,1].set(xlabel ='False Positive Rate', ylabel = 'True Positive Rate', title = 'Neural Network')\n",
    "# axes[1,1].legend(loc='lower right', fontsize=13);\n",
    "\n"
   ]
  },
  {
   "cell_type": "code",
   "execution_count": 15,
   "id": "4ef4d3c7",
   "metadata": {},
   "outputs": [],
   "source": [
    "X_test=xtest"
   ]
  },
  {
   "cell_type": "code",
   "execution_count": 16,
   "id": "124b0a3c",
   "metadata": {},
   "outputs": [
    {
     "name": "stdout",
     "output_type": "stream",
     "text": [
      "Confusion Matrix without normalization\n",
      "[[ 24 136]\n",
      " [ 94 685]]\n"
     ]
    },
    {
     "data": {
      "image/png": "[encoded data removed]",
      "text/plain": [
       "<Figure size 1080x864 with 5 Axes>"
      ]
     },
     "metadata": {
      "needs_background": "light"
     },
     "output_type": "display_data"
    }
   ],
   "source": [
    "# confusion matrix for LR, NB,SVM, NN\n",
    "lr_cm=confusion_matrix(y_test, lr.predict(X_test))\n",
    "# nb_cm=confusion_matrix(y_test, nb.predict(X_test))\n",
    "clf_cm=confusion_matrix(y_test,clf.predict(X_test))\n",
    "svm_cm=confusion_matrix(y_test, svm.predict(X_test))\n",
    "nn_cm=confusion_matrix(y_test, nn.predict(X_test))\n",
    "\n",
    "plt.figure(figsize=(15,12))\n",
    "plt.suptitle(\"Confusion Matrices\",fontsize=24)\n",
    "\n",
    "plt.subplot(2,2,1)\n",
    "plt.title(\"Logistic Regression\")\n",
    "sns.heatmap(lr_cm, annot = True, cmap=\"Greens\",cbar=False);\n",
    "\n",
    "plt.subplot(2,2,2)\n",
    "plt.title(\"Random Forest \")\n",
    "sns.heatmap(clf_cm, annot = True, cmap=\"Greens\",cbar=False);\n",
    "\n",
    "plt.subplot(2,2,3)\n",
    "plt.title(\"Support Vector Machine (SVM)\")\n",
    "sns.heatmap(svm_cm, annot = True, cmap=\"Greens\",cbar=False);\n",
    "\n",
    "plt.subplot(2,2,4)\n",
    "cm_plot_labels=['Positive Review','Negative Review']\n",
    "# plt.figure(figsize=(8, 8))\n",
    "plot_confusion_matrix(cm=cm,classes=cm_plot_labels,title='Confusion Matrix')\n",
    "\n",
    "\n",
    "# plt.subplot(2,2,4)\n",
    "# plt.title(\"Neural Network\")\n",
    "# sns.heatmap(nn_cm, annot = True, cmap=\"Greens\",cbar=False);"
   ]
  }
 ],
 "metadata": {
  "kernelspec": {
   "display_name": "torCH",
   "language": "python",
   "name": "torch"
  },
  "language_info": {
   "codemirror_mode": {
    "name": "ipython",
    "version": 3
   },
   "file_extension": ".py",
   "mimetype": "text/x-python",
   "name": "python",
   "nbconvert_exporter": "python",
   "pygments_lexer": "ipython3",
   "version": "3.9.7"
  }
 },
 "nbformat": 4,
 "nbformat_minor": 5
}
